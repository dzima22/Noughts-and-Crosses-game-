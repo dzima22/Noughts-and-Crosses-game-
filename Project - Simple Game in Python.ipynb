{
 "cells": [
  {
   "cell_type": "markdown",
   "id": "4019858f",
   "metadata": {},
   "source": [
    "# Noughts and Crosses "
   ]
  },
  {
   "cell_type": "markdown",
   "id": "36f4e5e3",
   "metadata": {},
   "source": [
    "Step1: Write a function that displays the playing field\n"
   ]
  },
  {
   "cell_type": "code",
   "execution_count": 32,
   "id": "656d18ed",
   "metadata": {},
   "outputs": [],
   "source": [
    "from IPython.display import clear_output\n",
    "\n",
    "def display_board(board):\n",
    "    clear_output()  # work only in jupyter notebook\n",
    "    \n",
    "    print('   |   |')\n",
    "    print(' ' + board[7] + ' | ' + board[8] + ' | ' + board[9])\n",
    "    print('   |   |')\n",
    "    print('-----------')\n",
    "    print('   |   |')\n",
    "    print(' ' + board[4] + ' | ' + board[5] + ' | ' + board[6])\n",
    "    print('   |   |')\n",
    "    print('-----------')\n",
    "    print('   |   |')\n",
    "    print(' ' + board[1] + ' | ' + board[2] + ' | ' + board[3])\n",
    "    print('   |   |')"
   ]
  },
  {
   "cell_type": "markdown",
   "id": "0035744f",
   "metadata": {},
   "source": [
    "Checking: Step 1"
   ]
  },
  {
   "cell_type": "code",
   "execution_count": 33,
   "id": "dd0e583e",
   "metadata": {},
   "outputs": [
    {
     "name": "stdout",
     "output_type": "stream",
     "text": [
      "   |   |\n",
      " X | O | X\n",
      "   |   |\n",
      "-----------\n",
      "   |   |\n",
      " O | X | O\n",
      "   |   |\n",
      "-----------\n",
      "   |   |\n",
      " X | O | X\n",
      "   |   |\n"
     ]
    }
   ],
   "source": [
    "test_board = ['#','X','O','X','O','X','O','X','O','X']\n",
    "display_board(test_board)"
   ]
  },
  {
   "cell_type": "markdown",
   "id": "d2ca1e45",
   "metadata": {},
   "source": [
    "Step 2: Write a function that asks the user which character  he wants to use, 'X' or 'O'"
   ]
  },
  {
   "cell_type": "code",
   "execution_count": null,
   "id": "2df60a09",
   "metadata": {},
   "outputs": [],
   "source": [
    "def player_input():\n",
    "    marker = ''\n",
    "    \n",
    "    while not (marker == 'X' or marker == 'O'):\n",
    "        marker = input('Player 1: Which character do you want to play, X or O? ').upper()\n",
    "\n",
    "    if marker == 'X':\n",
    "        return ('X', 'O')\n",
    "    else:\n",
    "        return ('O', 'X')"
   ]
  },
  {
   "cell_type": "markdown",
   "id": "3342136b",
   "metadata": {},
   "source": [
    "Checking: Step 2"
   ]
  },
  {
   "cell_type": "code",
   "execution_count": null,
   "id": "8fca3093",
   "metadata": {},
   "outputs": [],
   "source": [
    "player_input()"
   ]
  },
  {
   "cell_type": "markdown",
   "id": "dc69fb6d",
   "metadata": {},
   "source": [
    "Step 3: Write a function that takes a playfield object , a character , a desired position , and places that character on the playfield."
   ]
  },
  {
   "cell_type": "code",
   "execution_count": null,
   "id": "96c173c0",
   "metadata": {},
   "outputs": [],
   "source": [
    "def place_marker(board, marker, position):\n",
    "    board[position] = marker"
   ]
  },
  {
   "cell_type": "markdown",
   "id": "b5f78202",
   "metadata": {},
   "source": [
    "Checking: Step 3"
   ]
  },
  {
   "cell_type": "code",
   "execution_count": null,
   "id": "ba16629c",
   "metadata": {},
   "outputs": [],
   "source": [
    "place_marker(test_board,'$',8)\n",
    "display_board(test_board)"
   ]
  },
  {
   "cell_type": "markdown",
   "id": "50e305a3",
   "metadata": {},
   "source": [
    "Step 4: Write a function that takes the playing field, a symbol (X or O) and then checks to see if that symbol wins."
   ]
  },
  {
   "cell_type": "code",
   "execution_count": null,
   "id": "930930eb",
   "metadata": {},
   "outputs": [],
   "source": [
    "def win_check(board,mark):\n",
    "    \n",
    "    return ((board[7] == mark and board[8] == mark and board[9] == mark) or \n",
    "    (board[4] == mark and board[5] == mark and board[6] == mark) or \n",
    "    (board[1] == mark and board[2] == mark and board[3] == mark) or \n",
    "    (board[7] == mark and board[4] == mark and board[1] == mark) or \n",
    "    (board[8] == mark and board[5] == mark and board[2] == mark) or \n",
    "    (board[9] == mark and board[6] == mark and board[3] == mark) or \n",
    "    (board[7] == mark and board[5] == mark and board[3] == mark) or\n",
    "    (board[9] == mark and board[5] == mark and board[1] == mark))"
   ]
  },
  {
   "cell_type": "markdown",
   "id": "d8818e54",
   "metadata": {},
   "source": [
    "Checking: Step 4"
   ]
  },
  {
   "cell_type": "code",
   "execution_count": null,
   "id": "d15bf76a",
   "metadata": {},
   "outputs": [],
   "source": [
    "win_check(test_board,'X')"
   ]
  },
  {
   "cell_type": "markdown",
   "id": "9e3079b3",
   "metadata": {},
   "source": [
    "Step 5: Write a function to randomly decide which player moves first. "
   ]
  },
  {
   "cell_type": "code",
   "execution_count": null,
   "id": "f394fd6d",
   "metadata": {},
   "outputs": [],
   "source": [
    "import random\n",
    "\n",
    "def choose_first():\n",
    "    if random.randint(0, 1) == 0:\n",
    "        return 'Player 2'\n",
    "    else:\n",
    "        return 'Player 1'"
   ]
  },
  {
   "cell_type": "markdown",
   "id": "8941a07c",
   "metadata": {},
   "source": [
    "Step 6: Write a function that returns  whether the specified location on the playing field is empty or not."
   ]
  },
  {
   "cell_type": "code",
   "execution_count": null,
   "id": "2b907195",
   "metadata": {},
   "outputs": [],
   "source": [
    "def space_check(board, position):\n",
    "    \n",
    "    return board[position] == ' '"
   ]
  },
  {
   "cell_type": "markdown",
   "id": "f1ea6e5a",
   "metadata": {},
   "source": [
    "Step 7: Write a function that checks if the playing field is completely filled"
   ]
  },
  {
   "cell_type": "code",
   "execution_count": null,
   "id": "11b2d79b",
   "metadata": {},
   "outputs": [],
   "source": [
    "def full_board_check(board):\n",
    "    for i in range(1,10):\n",
    "        if space_check(board, i):\n",
    "            return False\n",
    "    return True"
   ]
  },
  {
   "cell_type": "markdown",
   "id": "947cde62",
   "metadata": {},
   "source": [
    "Step 8: Write a function that asks the player for the next position , and then uses the function from step 6 to check if that position is empty. "
   ]
  },
  {
   "cell_type": "code",
   "execution_count": null,
   "id": "f17e364b",
   "metadata": {},
   "outputs": [],
   "source": [
    "def player_choice(board):\n",
    "    position = 0\n",
    "    \n",
    "    while position not in [1,2,3,4,5,6,7,8,9] or not space_check(board, position):\n",
    "        position = int(input('Select the following box: (1-9) '))\n",
    "        \n",
    "    return position"
   ]
  },
  {
   "cell_type": "markdown",
   "id": "13709dc8",
   "metadata": {},
   "source": [
    "Step 9: Write a function that asks the player if he wants to play again"
   ]
  },
  {
   "cell_type": "code",
   "execution_count": null,
   "id": "9d624425",
   "metadata": {},
   "outputs": [],
   "source": [
    "def replay():\n",
    "    \n",
    "    return input('Do you want to play once again ? Yes or No: ').lower().startswith('y')"
   ]
  },
  {
   "cell_type": "markdown",
   "id": "5afedbdb",
   "metadata": {},
   "source": [
    "Step 10: Use loops and functions you created to run the game!"
   ]
  },
  {
   "cell_type": "code",
   "execution_count": null,
   "id": "99f9256d",
   "metadata": {},
   "outputs": [],
   "source": [
    "import time\n",
    "print('Welcome to the game of Noughts and Crosses !')\n",
    "time.sleep(0.2)\n",
    "\n",
    "while True:\n",
    "    # Game setup\n",
    "    theBoard = [' '] * 10\n",
    "    player1_marker, player2_marker = player_input()\n",
    "    turn = choose_first()\n",
    "    print(' First stat the ' + turn + '.')\n",
    "    \n",
    "    play_game = input('Are you ready? Type Yes or No.')\n",
    "    \n",
    "    if play_game.lower()[0] == 'y':\n",
    "        game_on = True\n",
    "    else:\n",
    "        game_on = False\n",
    "\n",
    "    while game_on:\n",
    "        if turn == 'Player 1':\n",
    "            # First Player starts \n",
    "            \n",
    "            display_board(theBoard)\n",
    "            position = player_choice(theBoard)\n",
    "            place_marker(theBoard, player1_marker, position)\n",
    "\n",
    "            if win_check(theBoard, player1_marker):\n",
    "                display_board(theBoard)\n",
    "                print('Congratulations! You win !')\n",
    "                game_on = False\n",
    "            else:\n",
    "                if full_board_check(theBoard):\n",
    "                    display_board(theBoard)\n",
    "                    print('Draw!')\n",
    "                    break\n",
    "                else:\n",
    "                    turn = 'Player 2'\n",
    "\n",
    "        else:\n",
    "            # Second Player starts\n",
    "            \n",
    "            display_board(theBoard)\n",
    "            position = player_choice(theBoard)\n",
    "            place_marker(theBoard, player2_marker, position)\n",
    "\n",
    "            if win_check(theBoard, player2_marker):\n",
    "                display_board(theBoard)\n",
    "                print('Player 2 win !')\n",
    "                game_on = False\n",
    "            else:\n",
    "                if full_board_check(theBoard):\n",
    "                    display_board(theBoard)\n",
    "                    print('Draw!')\n",
    "                    break\n",
    "                else:\n",
    "                    turn = 'Player 1'\n",
    "\n",
    "    if not replay():\n",
    "        break"
   ]
  },
  {
   "cell_type": "code",
   "execution_count": null,
   "id": "218c8449",
   "metadata": {},
   "outputs": [],
   "source": []
  }
 ],
 "metadata": {
  "kernelspec": {
   "display_name": "Python 3 (ipykernel)",
   "language": "python",
   "name": "python3"
  },
  "language_info": {
   "codemirror_mode": {
    "name": "ipython",
    "version": 3
   },
   "file_extension": ".py",
   "mimetype": "text/x-python",
   "name": "python",
   "nbconvert_exporter": "python",
   "pygments_lexer": "ipython3",
   "version": "3.9.7"
  }
 },
 "nbformat": 4,
 "nbformat_minor": 5
}
